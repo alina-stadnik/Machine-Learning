{
 "cells": [
  {
   "cell_type": "markdown",
   "metadata": {},
   "source": [
    "### **Mean, Median, and Mode**"
   ]
  },
  {
   "cell_type": "markdown",
   "metadata": {},
   "source": [
    "**Mean vs. Median**\n",
    "\n",
    "Creating fake income data: centered around 27000 with a normal distribution and standard deviation of 15000, with 10000 data points.\n",
    "\n",
    "Compute the mean (average) - it should be close to 27000."
   ]
  },
  {
   "cell_type": "code",
   "execution_count": 1,
   "metadata": {},
   "outputs": [
    {
     "data": {
      "text/plain": [
       "26768.383442428123"
      ]
     },
     "execution_count": 1,
     "metadata": {},
     "output_type": "execute_result"
    }
   ],
   "source": [
    "import numpy as np\n",
    "\n",
    "incomes = np.random.normal(27000, 15000, 10000)\n",
    "np.mean(incomes)"
   ]
  },
  {
   "cell_type": "markdown",
   "metadata": {},
   "source": [
    "It's possible to segment the income datainto 50 buckets, and plot it as a histogram:"
   ]
  },
  {
   "cell_type": "code",
   "execution_count": 2,
   "metadata": {},
   "outputs": [
    {
     "data": {
      "image/png": "[encoded data removed]",
      "text/plain": [
       "<Figure size 640x480 with 1 Axes>"
      ]
     },
     "metadata": {},
     "output_type": "display_data"
    }
   ],
   "source": [
    "%matplotlib inline\n",
    "import matplotlib.pyplot as plt\n",
    "\n",
    "plt.hist(incomes, 50)\n",
    "plt.show()"
   ]
  },
  {
   "cell_type": "markdown",
   "metadata": {},
   "source": [
    "Median: \n",
    "it should be close to 27000"
   ]
  },
  {
   "cell_type": "code",
   "execution_count": 3,
   "metadata": {},
   "outputs": [
    {
     "data": {
      "text/plain": [
       "26531.381827670797"
      ]
     },
     "execution_count": 3,
     "metadata": {},
     "output_type": "execute_result"
    }
   ],
   "source": [
    "np.median(incomes)"
   ]
  },
  {
   "cell_type": "markdown",
   "metadata": {},
   "source": [
    "If add one high value into the incomes, the mean will change, but the median won't change much:"
   ]
  },
  {
   "cell_type": "code",
   "execution_count": 10,
   "metadata": {},
   "outputs": [],
   "source": [
    "incomes = np.append(incomes, [1000000000])"
   ]
  },
  {
   "cell_type": "code",
   "execution_count": 11,
   "metadata": {},
   "outputs": [
    {
     "data": {
      "text/plain": [
       "426597.74434469023"
      ]
     },
     "execution_count": 11,
     "metadata": {},
     "output_type": "execute_result"
    }
   ],
   "source": [
    "np.mean(incomes)"
   ]
  },
  {
   "cell_type": "code",
   "execution_count": 12,
   "metadata": {},
   "outputs": [
    {
     "data": {
      "text/plain": [
       "26535.391766348268"
      ]
     },
     "execution_count": 12,
     "metadata": {},
     "output_type": "execute_result"
    }
   ],
   "source": [
    "np.median(incomes)"
   ]
  },
  {
   "cell_type": "markdown",
   "metadata": {},
   "source": [
    "**Mode**\n",
    "\n",
    "Generating some fake age data for 500 people:"
   ]
  },
  {
   "cell_type": "code",
   "execution_count": 14,
   "metadata": {},
   "outputs": [
    {
     "data": {
      "text/plain": [
       "array([87, 46, 54, 28, 58, 53, 41, 47, 88, 21, 67, 38, 47, 45, 47, 69, 58,\n",
       "       43, 32, 87, 30, 75, 32, 62, 83])"
      ]
     },
     "execution_count": 14,
     "metadata": {},
     "output_type": "execute_result"
    }
   ],
   "source": [
    "ages = np.random.randint(18, high=90, size=500)\n",
    "ages[:25]"
   ]
  },
  {
   "cell_type": "code",
   "execution_count": 15,
   "metadata": {},
   "outputs": [
    {
     "data": {
      "text/plain": [
       "ModeResult(mode=30, count=13)"
      ]
     },
     "execution_count": 15,
     "metadata": {},
     "output_type": "execute_result"
    }
   ],
   "source": [
    "from scipy import stats\n",
    "\n",
    "stats.mode(ages)"
   ]
  },
  {
   "cell_type": "markdown",
   "metadata": {},
   "source": [
    "**Mean and Median Customer Spend**"
   ]
  },
  {
   "cell_type": "markdown",
   "metadata": {},
   "source": [
    "First: generate some random e-commerce data; just an array of total amount spent per transaction."
   ]
  },
  {
   "cell_type": "code",
   "execution_count": 16,
   "metadata": {},
   "outputs": [
    {
     "data": {
      "image/png": "[encoded data removed]",
      "text/plain": [
       "<Figure size 640x480 with 1 Axes>"
      ]
     },
     "metadata": {},
     "output_type": "display_data"
    }
   ],
   "source": [
    "incomes = np.random.normal(100.0, 20.0, 10000)\n",
    "\n",
    "plt.hist(incomes, 50)\n",
    "plt.show()"
   ]
  },
  {
   "cell_type": "code",
   "execution_count": 17,
   "metadata": {},
   "outputs": [
    {
     "data": {
      "text/plain": [
       "99.76604530149116"
      ]
     },
     "execution_count": 17,
     "metadata": {},
     "output_type": "execute_result"
    }
   ],
   "source": [
    "# mean of this data\n",
    "np.mean(incomes)"
   ]
  },
  {
   "cell_type": "code",
   "execution_count": 18,
   "metadata": {},
   "outputs": [
    {
     "data": {
      "text/plain": [
       "99.89070172615266"
      ]
     },
     "execution_count": 18,
     "metadata": {},
     "output_type": "execute_result"
    }
   ],
   "source": [
    "# median of this data\n",
    "np.median(incomes)"
   ]
  },
  {
   "cell_type": "markdown",
   "metadata": {},
   "source": [
    "### **Using Python to calculate mean, median and mode:**"
   ]
  },
  {
   "cell_type": "code",
   "execution_count": 22,
   "metadata": {},
   "outputs": [],
   "source": [
    "def mean(list):\n",
    "    \"\"\"\"\n",
    "    Function to calculate the mean\n",
    "    Args:\n",
    "        It receives a list of values \n",
    "    Returns:\n",
    "        It returns 0 if it's an empty list\n",
    "        It returns the mean for a list of values\n",
    "    \"\"\"\n",
    "\n",
    "    if len(list)==0: #check if length is zero\n",
    "        return 0\n",
    "    else:\n",
    "        sum=0 #initialize the sum\n",
    "        for i in list:\n",
    "            sum+=i #total sum\n",
    "            mean=sum/len(list) #average\n",
    "        return mean"
   ]
  },
  {
   "cell_type": "code",
   "execution_count": 23,
   "metadata": {},
   "outputs": [
    {
     "data": {
      "text/plain": [
       "7.0"
      ]
     },
     "execution_count": 23,
     "metadata": {},
     "output_type": "execute_result"
    }
   ],
   "source": [
    "mean([5,6,7,8,9])"
   ]
  },
  {
   "cell_type": "code",
   "execution_count": 24,
   "metadata": {},
   "outputs": [],
   "source": [
    "def median(list):\n",
    "    \"\"\"\"\n",
    "    Function to calculate the median\n",
    "    Args:\n",
    "        It receives a list of values \n",
    "    Returns:\n",
    "        It returns 0 if it's an empty list\n",
    "        It returns the median for a list of values\n",
    "    \"\"\"\n",
    "    if len(list)==0:  #check if length is zero\n",
    "        return 0\n",
    "    else:\n",
    "        list.sort() #order in ascending order\n",
    "        midpoint=len(list)//2 #to find middle term\n",
    "        count=len(list) #to find length\n",
    "        if count%2==1: #the length is odd\n",
    "            median=list[midpoint]\n",
    "        else: \n",
    "            median=list[midpoint]+list[midpoint-1]/2 #incase of even terms\n",
    "    return median"
   ]
  },
  {
   "cell_type": "code",
   "execution_count": 25,
   "metadata": {},
   "outputs": [
    {
     "data": {
      "text/plain": [
       "7"
      ]
     },
     "execution_count": 25,
     "metadata": {},
     "output_type": "execute_result"
    }
   ],
   "source": [
    "median([5,6,7,8,9])"
   ]
  },
  {
   "cell_type": "code",
   "execution_count": 26,
   "metadata": {},
   "outputs": [
    {
     "data": {
      "text/plain": [
       "1"
      ]
     },
     "execution_count": 26,
     "metadata": {},
     "output_type": "execute_result"
    }
   ],
   "source": [
    "median([1,0.2,4])"
   ]
  },
  {
   "cell_type": "code",
   "execution_count": 29,
   "metadata": {},
   "outputs": [],
   "source": [
    "def mode(list):\n",
    "    \"\"\"\"\n",
    "    Function to find the mode\n",
    "    Args:\n",
    "        It receives a list of values \n",
    "    Returns:\n",
    "        It returns the mode for a list of values\n",
    "    \"\"\"\n",
    "    list.sort()\n",
    "    list_one=[]\n",
    "    i = 0\n",
    "    while i < len(list) : \n",
    "        list_one.append(list.count(list[i])) \n",
    "        i += 1 \n",
    "        # count how many times each element appears in the list\n",
    "        d1 = dict(zip(list, list_one)) \n",
    "        # using a dict: pair each element from the sorted list with its corresponding count\n",
    "        new_list={k for (k,v) in d1.items() if v == max(list_one) } # find the keys with max count in dict \n",
    "    return new_list"
   ]
  },
  {
   "cell_type": "code",
   "execution_count": 28,
   "metadata": {},
   "outputs": [
    {
     "data": {
      "text/plain": [
       "{8}"
      ]
     },
     "execution_count": 28,
     "metadata": {},
     "output_type": "execute_result"
    }
   ],
   "source": [
    "mode([2,5,8,8,8,9,8,8,7])"
   ]
  },
  {
   "cell_type": "code",
   "execution_count": 30,
   "metadata": {},
   "outputs": [
    {
     "data": {
      "text/plain": [
       "{7, 8}"
      ]
     },
     "execution_count": 30,
     "metadata": {},
     "output_type": "execute_result"
    }
   ],
   "source": [
    "mode([2,5,8,8,8,9,8,8,7,7,7,7,7])"
   ]
  },
  {
   "cell_type": "code",
   "execution_count": 31,
   "metadata": {},
   "outputs": [],
   "source": [
    "from math import sqrt\n",
    "\n",
    "def std(list):\n",
    "    \"\"\"\"\n",
    "    Function to find the standard deviation\n",
    "    Args:\n",
    "        It receives a list of values \n",
    "    Returns:\n",
    "        It returns 0 if it's an empty list\n",
    "        It returns the std of the list\n",
    "    \"\"\"\n",
    "    if len(list)==0: #check if length is zero\n",
    "        return 0\n",
    "    \n",
    "    std_deviation = sqrt(sum([(number - mean(list)) ** 2 for number in list]) / (len(list) - 1)) #mathematical formulation\n",
    "    return std_deviation"
   ]
  }
 ],
 "metadata": {
  "kernelspec": {
   "display_name": ".venv",
   "language": "python",
   "name": "python3"
  },
  "language_info": {
   "codemirror_mode": {
    "name": "ipython",
    "version": 3
   },
   "file_extension": ".py",
   "mimetype": "text/x-python",
   "name": "python",
   "nbconvert_exporter": "python",
   "pygments_lexer": "ipython3",
   "version": "3.11.5"
  }
 },
 "nbformat": 4,
 "nbformat_minor": 2
}
