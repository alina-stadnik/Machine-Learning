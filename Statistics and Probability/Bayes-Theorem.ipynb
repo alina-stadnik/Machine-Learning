{
 "cells": [
  {
   "cell_type": "markdown",
   "metadata": {},
   "source": [
    "### **Bayes' Theorem**\n",
    "\n",
    "The probability of A given B, is the probability of A times the probability of B given A over the probability of B:\n",
    "\n",
    "![image](https://miro.medium.com/v2/resize:fit:1067/1*LaTxXlJ0tz0dUvBqISvylw@2x.jpeg)\n",
    "\n",
    "The key insight is that the probability of something that depends on B depends very much on the base probability of B and A.\n",
    "\n",
    "- **The probability of being a drug user given that you tested positive depends very much on the base overall probability of being a drug user and the overall probability of testing positive.**\n",
    "- The probability of B given A is not the same thing as the probability of A given B. **The probability of being a drug user given that you tested positive can be very different from the probability of testing positive given that you were a drug user.**"
   ]
  },
  {
   "cell_type": "markdown",
   "metadata": {},
   "source": []
  }
 ],
 "metadata": {
  "kernelspec": {
   "display_name": ".venv",
   "language": "python",
   "name": "python3"
  },
  "language_info": {
   "name": "python",
   "version": "3.11.5"
  }
 },
 "nbformat": 4,
 "nbformat_minor": 2
}
